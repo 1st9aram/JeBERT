{
  "nbformat": 4,
  "nbformat_minor": 0,
  "metadata": {
    "colab": {
      "name": "streamlit_colab_ko_je_baseline.ipynb의 사본",
      "provenance": [],
      "collapsed_sections": []
    },
    "kernelspec": {
      "name": "python3",
      "display_name": "Python 3"
    },
    "language_info": {
      "name": "python"
    },
    "accelerator": "GPU"
  },
  "cells": [
    {
      "cell_type": "code",
      "source": [
        "from google.colab import drive\n",
        "drive.mount('/content/drive')"
      ],
      "metadata": {
        "colab": {
          "base_uri": "https://localhost:8080/"
        },
        "id": "HIW-_tWQnEbU",
        "outputId": "9b8e5f46-f991-4250-e31d-d50c73e841fd"
      },
      "execution_count": null,
      "outputs": [
        {
          "output_type": "stream",
          "name": "stdout",
          "text": [
            "Mounted at /content/drive\n"
          ]
        }
      ]
    },
    {
      "cell_type": "code",
      "source": [
        "import os"
      ],
      "metadata": {
        "id": "IITMKB2FnEWH"
      },
      "execution_count": null,
      "outputs": []
    },
    {
      "cell_type": "code",
      "source": [
        "os.chdir(\"/content/drive/MyDrive/Colab Notebooks/goorm/project/translation/\")\n",
        "print(os.getcwd())"
      ],
      "metadata": {
        "colab": {
          "base_uri": "https://localhost:8080/"
        },
        "id": "SyWTewnRnKe3",
        "outputId": "079bcf74-194d-40ed-eea1-d341a2e6a795"
      },
      "execution_count": null,
      "outputs": [
        {
          "output_type": "stream",
          "name": "stdout",
          "text": [
            "/content/drive/MyDrive/Colab Notebooks/goorm/project/translation\n"
          ]
        }
      ]
    },
    {
      "cell_type": "code",
      "source": [
        "!pip install streamlit"
      ],
      "metadata": {
        "colab": {
          "base_uri": "https://localhost:8080/"
        },
        "id": "H4A5CwMKq96-",
        "outputId": "48c2aad1-4135-47ec-ea2e-1961b5521ec2"
      },
      "execution_count": null,
      "outputs": [
        {
          "output_type": "stream",
          "name": "stdout",
          "text": [
            "Requirement already satisfied: streamlit in /usr/local/lib/python3.7/dist-packages (1.9.0)\n",
            "Requirement already satisfied: python-dateutil in /usr/local/lib/python3.7/dist-packages (from streamlit) (2.8.2)\n",
            "Requirement already satisfied: packaging in /usr/local/lib/python3.7/dist-packages (from streamlit) (21.3)\n",
            "Requirement already satisfied: pyarrow in /usr/local/lib/python3.7/dist-packages (from streamlit) (6.0.1)\n",
            "Requirement already satisfied: altair>=3.2.0 in /usr/local/lib/python3.7/dist-packages (from streamlit) (4.2.0)\n",
            "Requirement already satisfied: importlib-metadata>=1.4 in /usr/local/lib/python3.7/dist-packages (from streamlit) (4.11.3)\n",
            "Requirement already satisfied: watchdog in /usr/local/lib/python3.7/dist-packages (from streamlit) (2.1.7)\n",
            "Requirement already satisfied: typing-extensions in /usr/local/lib/python3.7/dist-packages (from streamlit) (4.2.0)\n",
            "Requirement already satisfied: blinker in /usr/local/lib/python3.7/dist-packages (from streamlit) (1.4)\n",
            "Requirement already satisfied: attrs in /usr/local/lib/python3.7/dist-packages (from streamlit) (21.4.0)\n",
            "Requirement already satisfied: click<8.1,>=7.0 in /usr/local/lib/python3.7/dist-packages (from streamlit) (7.1.2)\n",
            "Requirement already satisfied: semver in /usr/local/lib/python3.7/dist-packages (from streamlit) (2.13.0)\n",
            "Requirement already satisfied: numpy in /usr/local/lib/python3.7/dist-packages (from streamlit) (1.21.6)\n",
            "Requirement already satisfied: protobuf!=3.11,>=3.6.0 in /usr/local/lib/python3.7/dist-packages (from streamlit) (3.17.3)\n",
            "Requirement already satisfied: gitpython!=3.1.19 in /usr/local/lib/python3.7/dist-packages (from streamlit) (3.1.27)\n",
            "Requirement already satisfied: pydeck>=0.1.dev5 in /usr/local/lib/python3.7/dist-packages (from streamlit) (0.7.1)\n",
            "Requirement already satisfied: tzlocal in /usr/local/lib/python3.7/dist-packages (from streamlit) (1.5.1)\n",
            "Requirement already satisfied: pillow>=6.2.0 in /usr/local/lib/python3.7/dist-packages (from streamlit) (7.1.2)\n",
            "Requirement already satisfied: toml in /usr/local/lib/python3.7/dist-packages (from streamlit) (0.10.2)\n",
            "Requirement already satisfied: pympler>=0.9 in /usr/local/lib/python3.7/dist-packages (from streamlit) (1.0.1)\n",
            "Requirement already satisfied: validators in /usr/local/lib/python3.7/dist-packages (from streamlit) (0.19.0)\n",
            "Requirement already satisfied: cachetools>=4.0 in /usr/local/lib/python3.7/dist-packages (from streamlit) (4.2.4)\n",
            "Requirement already satisfied: pandas>=0.21.0 in /usr/local/lib/python3.7/dist-packages (from streamlit) (1.3.5)\n",
            "Requirement already satisfied: requests in /usr/local/lib/python3.7/dist-packages (from streamlit) (2.23.0)\n",
            "Requirement already satisfied: tornado>=5.0 in /usr/local/lib/python3.7/dist-packages (from streamlit) (6.1)\n",
            "Requirement already satisfied: toolz in /usr/local/lib/python3.7/dist-packages (from altair>=3.2.0->streamlit) (0.11.2)\n",
            "Requirement already satisfied: jinja2 in /usr/local/lib/python3.7/dist-packages (from altair>=3.2.0->streamlit) (2.11.3)\n",
            "Requirement already satisfied: entrypoints in /usr/local/lib/python3.7/dist-packages (from altair>=3.2.0->streamlit) (0.4)\n",
            "Requirement already satisfied: jsonschema>=3.0 in /usr/local/lib/python3.7/dist-packages (from altair>=3.2.0->streamlit) (4.3.3)\n",
            "Requirement already satisfied: gitdb<5,>=4.0.1 in /usr/local/lib/python3.7/dist-packages (from gitpython!=3.1.19->streamlit) (4.0.9)\n",
            "Requirement already satisfied: smmap<6,>=3.0.1 in /usr/local/lib/python3.7/dist-packages (from gitdb<5,>=4.0.1->gitpython!=3.1.19->streamlit) (5.0.0)\n",
            "Requirement already satisfied: zipp>=0.5 in /usr/local/lib/python3.7/dist-packages (from importlib-metadata>=1.4->streamlit) (3.8.0)\n",
            "Requirement already satisfied: pyrsistent!=0.17.0,!=0.17.1,!=0.17.2,>=0.14.0 in /usr/local/lib/python3.7/dist-packages (from jsonschema>=3.0->altair>=3.2.0->streamlit) (0.18.1)\n",
            "Requirement already satisfied: importlib-resources>=1.4.0 in /usr/local/lib/python3.7/dist-packages (from jsonschema>=3.0->altair>=3.2.0->streamlit) (5.7.1)\n",
            "Requirement already satisfied: pytz>=2017.3 in /usr/local/lib/python3.7/dist-packages (from pandas>=0.21.0->streamlit) (2022.1)\n",
            "Requirement already satisfied: six>=1.9 in /usr/local/lib/python3.7/dist-packages (from protobuf!=3.11,>=3.6.0->streamlit) (1.15.0)\n",
            "Requirement already satisfied: ipykernel>=5.1.2 in /usr/local/lib/python3.7/dist-packages (from pydeck>=0.1.dev5->streamlit) (6.13.0)\n",
            "Requirement already satisfied: traitlets>=4.3.2 in /usr/local/lib/python3.7/dist-packages (from pydeck>=0.1.dev5->streamlit) (5.1.1)\n",
            "Requirement already satisfied: ipywidgets>=7.0.0 in /usr/local/lib/python3.7/dist-packages (from pydeck>=0.1.dev5->streamlit) (7.7.0)\n",
            "Requirement already satisfied: psutil in /usr/local/lib/python3.7/dist-packages (from ipykernel>=5.1.2->pydeck>=0.1.dev5->streamlit) (5.4.8)\n",
            "Requirement already satisfied: ipython>=7.23.1 in /usr/local/lib/python3.7/dist-packages (from ipykernel>=5.1.2->pydeck>=0.1.dev5->streamlit) (7.33.0)\n",
            "Requirement already satisfied: nest-asyncio in /usr/local/lib/python3.7/dist-packages (from ipykernel>=5.1.2->pydeck>=0.1.dev5->streamlit) (1.5.5)\n",
            "Requirement already satisfied: debugpy>=1.0 in /usr/local/lib/python3.7/dist-packages (from ipykernel>=5.1.2->pydeck>=0.1.dev5->streamlit) (1.0.0)\n",
            "Requirement already satisfied: jupyter-client>=6.1.12 in /usr/local/lib/python3.7/dist-packages (from ipykernel>=5.1.2->pydeck>=0.1.dev5->streamlit) (7.3.1)\n",
            "Requirement already satisfied: matplotlib-inline>=0.1 in /usr/local/lib/python3.7/dist-packages (from ipykernel>=5.1.2->pydeck>=0.1.dev5->streamlit) (0.1.3)\n",
            "Requirement already satisfied: pexpect>4.3 in /usr/local/lib/python3.7/dist-packages (from ipython>=7.23.1->ipykernel>=5.1.2->pydeck>=0.1.dev5->streamlit) (4.8.0)\n",
            "Requirement already satisfied: backcall in /usr/local/lib/python3.7/dist-packages (from ipython>=7.23.1->ipykernel>=5.1.2->pydeck>=0.1.dev5->streamlit) (0.2.0)\n",
            "Requirement already satisfied: pygments in /usr/local/lib/python3.7/dist-packages (from ipython>=7.23.1->ipykernel>=5.1.2->pydeck>=0.1.dev5->streamlit) (2.6.1)\n",
            "Requirement already satisfied: pickleshare in /usr/local/lib/python3.7/dist-packages (from ipython>=7.23.1->ipykernel>=5.1.2->pydeck>=0.1.dev5->streamlit) (0.7.5)\n",
            "Requirement already satisfied: setuptools>=18.5 in /usr/local/lib/python3.7/dist-packages (from ipython>=7.23.1->ipykernel>=5.1.2->pydeck>=0.1.dev5->streamlit) (57.4.0)\n",
            "Requirement already satisfied: decorator in /usr/local/lib/python3.7/dist-packages (from ipython>=7.23.1->ipykernel>=5.1.2->pydeck>=0.1.dev5->streamlit) (4.4.2)\n",
            "Requirement already satisfied: prompt-toolkit!=3.0.0,!=3.0.1,<3.1.0,>=2.0.0 in /usr/local/lib/python3.7/dist-packages (from ipython>=7.23.1->ipykernel>=5.1.2->pydeck>=0.1.dev5->streamlit) (3.0.29)\n",
            "Requirement already satisfied: jedi>=0.16 in /usr/local/lib/python3.7/dist-packages (from ipython>=7.23.1->ipykernel>=5.1.2->pydeck>=0.1.dev5->streamlit) (0.18.1)\n",
            "Requirement already satisfied: ipython-genutils~=0.2.0 in /usr/local/lib/python3.7/dist-packages (from ipywidgets>=7.0.0->pydeck>=0.1.dev5->streamlit) (0.2.0)\n",
            "Requirement already satisfied: widgetsnbextension~=3.6.0 in /usr/local/lib/python3.7/dist-packages (from ipywidgets>=7.0.0->pydeck>=0.1.dev5->streamlit) (3.6.0)\n",
            "Requirement already satisfied: nbformat>=4.2.0 in /usr/local/lib/python3.7/dist-packages (from ipywidgets>=7.0.0->pydeck>=0.1.dev5->streamlit) (5.3.0)\n",
            "Requirement already satisfied: jupyterlab-widgets>=1.0.0 in /usr/local/lib/python3.7/dist-packages (from ipywidgets>=7.0.0->pydeck>=0.1.dev5->streamlit) (1.1.0)\n",
            "Requirement already satisfied: parso<0.9.0,>=0.8.0 in /usr/local/lib/python3.7/dist-packages (from jedi>=0.16->ipython>=7.23.1->ipykernel>=5.1.2->pydeck>=0.1.dev5->streamlit) (0.8.3)\n",
            "Requirement already satisfied: MarkupSafe>=0.23 in /usr/local/lib/python3.7/dist-packages (from jinja2->altair>=3.2.0->streamlit) (2.0.1)\n",
            "Requirement already satisfied: pyzmq>=22.3 in /usr/local/lib/python3.7/dist-packages (from jupyter-client>=6.1.12->ipykernel>=5.1.2->pydeck>=0.1.dev5->streamlit) (22.3.0)\n",
            "Requirement already satisfied: jupyter-core>=4.9.2 in /usr/local/lib/python3.7/dist-packages (from jupyter-client>=6.1.12->ipykernel>=5.1.2->pydeck>=0.1.dev5->streamlit) (4.10.0)\n",
            "Requirement already satisfied: fastjsonschema in /usr/local/lib/python3.7/dist-packages (from nbformat>=4.2.0->ipywidgets>=7.0.0->pydeck>=0.1.dev5->streamlit) (2.15.3)\n",
            "Requirement already satisfied: ptyprocess>=0.5 in /usr/local/lib/python3.7/dist-packages (from pexpect>4.3->ipython>=7.23.1->ipykernel>=5.1.2->pydeck>=0.1.dev5->streamlit) (0.7.0)\n",
            "Requirement already satisfied: wcwidth in /usr/local/lib/python3.7/dist-packages (from prompt-toolkit!=3.0.0,!=3.0.1,<3.1.0,>=2.0.0->ipython>=7.23.1->ipykernel>=5.1.2->pydeck>=0.1.dev5->streamlit) (0.2.5)\n",
            "Requirement already satisfied: notebook>=4.4.1 in /usr/local/lib/python3.7/dist-packages (from widgetsnbextension~=3.6.0->ipywidgets>=7.0.0->pydeck>=0.1.dev5->streamlit) (5.3.1)\n",
            "Requirement already satisfied: Send2Trash in /usr/local/lib/python3.7/dist-packages (from notebook>=4.4.1->widgetsnbextension~=3.6.0->ipywidgets>=7.0.0->pydeck>=0.1.dev5->streamlit) (1.8.0)\n",
            "Requirement already satisfied: nbconvert in /usr/local/lib/python3.7/dist-packages (from notebook>=4.4.1->widgetsnbextension~=3.6.0->ipywidgets>=7.0.0->pydeck>=0.1.dev5->streamlit) (5.6.1)\n",
            "Requirement already satisfied: terminado>=0.8.1 in /usr/local/lib/python3.7/dist-packages (from notebook>=4.4.1->widgetsnbextension~=3.6.0->ipywidgets>=7.0.0->pydeck>=0.1.dev5->streamlit) (0.13.3)\n",
            "Requirement already satisfied: bleach in /usr/local/lib/python3.7/dist-packages (from nbconvert->notebook>=4.4.1->widgetsnbextension~=3.6.0->ipywidgets>=7.0.0->pydeck>=0.1.dev5->streamlit) (5.0.0)\n",
            "Requirement already satisfied: defusedxml in /usr/local/lib/python3.7/dist-packages (from nbconvert->notebook>=4.4.1->widgetsnbextension~=3.6.0->ipywidgets>=7.0.0->pydeck>=0.1.dev5->streamlit) (0.7.1)\n",
            "Requirement already satisfied: mistune<2,>=0.8.1 in /usr/local/lib/python3.7/dist-packages (from nbconvert->notebook>=4.4.1->widgetsnbextension~=3.6.0->ipywidgets>=7.0.0->pydeck>=0.1.dev5->streamlit) (0.8.4)\n",
            "Requirement already satisfied: pandocfilters>=1.4.1 in /usr/local/lib/python3.7/dist-packages (from nbconvert->notebook>=4.4.1->widgetsnbextension~=3.6.0->ipywidgets>=7.0.0->pydeck>=0.1.dev5->streamlit) (1.5.0)\n",
            "Requirement already satisfied: testpath in /usr/local/lib/python3.7/dist-packages (from nbconvert->notebook>=4.4.1->widgetsnbextension~=3.6.0->ipywidgets>=7.0.0->pydeck>=0.1.dev5->streamlit) (0.6.0)\n",
            "Requirement already satisfied: webencodings in /usr/local/lib/python3.7/dist-packages (from bleach->nbconvert->notebook>=4.4.1->widgetsnbextension~=3.6.0->ipywidgets>=7.0.0->pydeck>=0.1.dev5->streamlit) (0.5.1)\n",
            "Requirement already satisfied: pyparsing!=3.0.5,>=2.0.2 in /usr/local/lib/python3.7/dist-packages (from packaging->streamlit) (3.0.8)\n",
            "Requirement already satisfied: certifi>=2017.4.17 in /usr/local/lib/python3.7/dist-packages (from requests->streamlit) (2021.10.8)\n",
            "Requirement already satisfied: idna<3,>=2.5 in /usr/local/lib/python3.7/dist-packages (from requests->streamlit) (2.10)\n",
            "Requirement already satisfied: urllib3!=1.25.0,!=1.25.1,<1.26,>=1.21.1 in /usr/local/lib/python3.7/dist-packages (from requests->streamlit) (1.24.3)\n",
            "Requirement already satisfied: chardet<4,>=3.0.2 in /usr/local/lib/python3.7/dist-packages (from requests->streamlit) (3.0.4)\n"
          ]
        }
      ]
    },
    {
      "cell_type": "code",
      "source": [
        "!pip install pyngrok"
      ],
      "metadata": {
        "colab": {
          "base_uri": "https://localhost:8080/"
        },
        "id": "CM3dQY4doAa7",
        "outputId": "4ddee7e5-ef4b-4929-bc76-1591c5cd4460"
      },
      "execution_count": null,
      "outputs": [
        {
          "output_type": "stream",
          "name": "stdout",
          "text": [
            "Collecting pyngrok\n",
            "  Downloading pyngrok-5.1.0.tar.gz (745 kB)\n",
            "\u001b[?25l\r\u001b[K     |▍                               | 10 kB 36.2 MB/s eta 0:00:01\r\u001b[K     |▉                               | 20 kB 16.5 MB/s eta 0:00:01\r\u001b[K     |█▎                              | 30 kB 9.7 MB/s eta 0:00:01\r\u001b[K     |█▊                              | 40 kB 8.0 MB/s eta 0:00:01\r\u001b[K     |██▏                             | 51 kB 4.4 MB/s eta 0:00:01\r\u001b[K     |██▋                             | 61 kB 5.2 MB/s eta 0:00:01\r\u001b[K     |███                             | 71 kB 5.2 MB/s eta 0:00:01\r\u001b[K     |███▌                            | 81 kB 5.3 MB/s eta 0:00:01\r\u001b[K     |████                            | 92 kB 5.9 MB/s eta 0:00:01\r\u001b[K     |████▍                           | 102 kB 5.0 MB/s eta 0:00:01\r\u001b[K     |████▉                           | 112 kB 5.0 MB/s eta 0:00:01\r\u001b[K     |█████▎                          | 122 kB 5.0 MB/s eta 0:00:01\r\u001b[K     |█████▊                          | 133 kB 5.0 MB/s eta 0:00:01\r\u001b[K     |██████▏                         | 143 kB 5.0 MB/s eta 0:00:01\r\u001b[K     |██████▋                         | 153 kB 5.0 MB/s eta 0:00:01\r\u001b[K     |███████                         | 163 kB 5.0 MB/s eta 0:00:01\r\u001b[K     |███████▌                        | 174 kB 5.0 MB/s eta 0:00:01\r\u001b[K     |████████                        | 184 kB 5.0 MB/s eta 0:00:01\r\u001b[K     |████████▍                       | 194 kB 5.0 MB/s eta 0:00:01\r\u001b[K     |████████▉                       | 204 kB 5.0 MB/s eta 0:00:01\r\u001b[K     |█████████▎                      | 215 kB 5.0 MB/s eta 0:00:01\r\u001b[K     |█████████▊                      | 225 kB 5.0 MB/s eta 0:00:01\r\u001b[K     |██████████▏                     | 235 kB 5.0 MB/s eta 0:00:01\r\u001b[K     |██████████▌                     | 245 kB 5.0 MB/s eta 0:00:01\r\u001b[K     |███████████                     | 256 kB 5.0 MB/s eta 0:00:01\r\u001b[K     |███████████▍                    | 266 kB 5.0 MB/s eta 0:00:01\r\u001b[K     |███████████▉                    | 276 kB 5.0 MB/s eta 0:00:01\r\u001b[K     |████████████▎                   | 286 kB 5.0 MB/s eta 0:00:01\r\u001b[K     |████████████▊                   | 296 kB 5.0 MB/s eta 0:00:01\r\u001b[K     |█████████████▏                  | 307 kB 5.0 MB/s eta 0:00:01\r\u001b[K     |█████████████▋                  | 317 kB 5.0 MB/s eta 0:00:01\r\u001b[K     |██████████████                  | 327 kB 5.0 MB/s eta 0:00:01\r\u001b[K     |██████████████▌                 | 337 kB 5.0 MB/s eta 0:00:01\r\u001b[K     |███████████████                 | 348 kB 5.0 MB/s eta 0:00:01\r\u001b[K     |███████████████▍                | 358 kB 5.0 MB/s eta 0:00:01\r\u001b[K     |███████████████▉                | 368 kB 5.0 MB/s eta 0:00:01\r\u001b[K     |████████████████▎               | 378 kB 5.0 MB/s eta 0:00:01\r\u001b[K     |████████████████▊               | 389 kB 5.0 MB/s eta 0:00:01\r\u001b[K     |█████████████████▏              | 399 kB 5.0 MB/s eta 0:00:01\r\u001b[K     |█████████████████▋              | 409 kB 5.0 MB/s eta 0:00:01\r\u001b[K     |██████████████████              | 419 kB 5.0 MB/s eta 0:00:01\r\u001b[K     |██████████████████▌             | 430 kB 5.0 MB/s eta 0:00:01\r\u001b[K     |███████████████████             | 440 kB 5.0 MB/s eta 0:00:01\r\u001b[K     |███████████████████▍            | 450 kB 5.0 MB/s eta 0:00:01\r\u001b[K     |███████████████████▉            | 460 kB 5.0 MB/s eta 0:00:01\r\u001b[K     |████████████████████▎           | 471 kB 5.0 MB/s eta 0:00:01\r\u001b[K     |████████████████████▋           | 481 kB 5.0 MB/s eta 0:00:01\r\u001b[K     |█████████████████████           | 491 kB 5.0 MB/s eta 0:00:01\r\u001b[K     |█████████████████████▌          | 501 kB 5.0 MB/s eta 0:00:01\r\u001b[K     |██████████████████████          | 512 kB 5.0 MB/s eta 0:00:01\r\u001b[K     |██████████████████████▍         | 522 kB 5.0 MB/s eta 0:00:01\r\u001b[K     |██████████████████████▉         | 532 kB 5.0 MB/s eta 0:00:01\r\u001b[K     |███████████████████████▎        | 542 kB 5.0 MB/s eta 0:00:01\r\u001b[K     |███████████████████████▊        | 552 kB 5.0 MB/s eta 0:00:01\r\u001b[K     |████████████████████████▏       | 563 kB 5.0 MB/s eta 0:00:01\r\u001b[K     |████████████████████████▋       | 573 kB 5.0 MB/s eta 0:00:01\r\u001b[K     |█████████████████████████       | 583 kB 5.0 MB/s eta 0:00:01\r\u001b[K     |█████████████████████████▌      | 593 kB 5.0 MB/s eta 0:00:01\r\u001b[K     |██████████████████████████      | 604 kB 5.0 MB/s eta 0:00:01\r\u001b[K     |██████████████████████████▍     | 614 kB 5.0 MB/s eta 0:00:01\r\u001b[K     |██████████████████████████▉     | 624 kB 5.0 MB/s eta 0:00:01\r\u001b[K     |███████████████████████████▎    | 634 kB 5.0 MB/s eta 0:00:01\r\u001b[K     |███████████████████████████▊    | 645 kB 5.0 MB/s eta 0:00:01\r\u001b[K     |████████████████████████████▏   | 655 kB 5.0 MB/s eta 0:00:01\r\u001b[K     |████████████████████████████▋   | 665 kB 5.0 MB/s eta 0:00:01\r\u001b[K     |█████████████████████████████   | 675 kB 5.0 MB/s eta 0:00:01\r\u001b[K     |█████████████████████████████▌  | 686 kB 5.0 MB/s eta 0:00:01\r\u001b[K     |██████████████████████████████  | 696 kB 5.0 MB/s eta 0:00:01\r\u001b[K     |██████████████████████████████▍ | 706 kB 5.0 MB/s eta 0:00:01\r\u001b[K     |██████████████████████████████▊ | 716 kB 5.0 MB/s eta 0:00:01\r\u001b[K     |███████████████████████████████▏| 727 kB 5.0 MB/s eta 0:00:01\r\u001b[K     |███████████████████████████████▋| 737 kB 5.0 MB/s eta 0:00:01\r\u001b[K     |████████████████████████████████| 745 kB 5.0 MB/s \n",
            "\u001b[?25hRequirement already satisfied: PyYAML in /usr/local/lib/python3.7/dist-packages (from pyngrok) (3.13)\n",
            "Building wheels for collected packages: pyngrok\n",
            "  Building wheel for pyngrok (setup.py) ... \u001b[?25l\u001b[?25hdone\n",
            "  Created wheel for pyngrok: filename=pyngrok-5.1.0-py3-none-any.whl size=19007 sha256=3eff3f5d5a1833be0a9b43bdfc588407f0da87578431f01a2ecaacc2078c5733\n",
            "  Stored in directory: /root/.cache/pip/wheels/bf/e6/af/ccf6598ecefecd44104069371795cb9b3afbcd16987f6ccfb3\n",
            "Successfully built pyngrok\n",
            "Installing collected packages: pyngrok\n",
            "Successfully installed pyngrok-5.1.0\n"
          ]
        }
      ]
    },
    {
      "cell_type": "code",
      "source": [
        "!pip install transformers"
      ],
      "metadata": {
        "colab": {
          "base_uri": "https://localhost:8080/"
        },
        "id": "sGmOUEJANyDP",
        "outputId": "d048aedc-ce37-4724-c6c8-b89f9d984470"
      },
      "execution_count": null,
      "outputs": [
        {
          "output_type": "stream",
          "name": "stdout",
          "text": [
            "Requirement already satisfied: transformers in /usr/local/lib/python3.7/dist-packages (4.18.0)\n",
            "Requirement already satisfied: importlib-metadata in /usr/local/lib/python3.7/dist-packages (from transformers) (4.11.3)\n",
            "Requirement already satisfied: packaging>=20.0 in /usr/local/lib/python3.7/dist-packages (from transformers) (21.3)\n",
            "Requirement already satisfied: regex!=2019.12.17 in /usr/local/lib/python3.7/dist-packages (from transformers) (2019.12.20)\n",
            "Requirement already satisfied: sacremoses in /usr/local/lib/python3.7/dist-packages (from transformers) (0.0.53)\n",
            "Requirement already satisfied: huggingface-hub<1.0,>=0.1.0 in /usr/local/lib/python3.7/dist-packages (from transformers) (0.6.0)\n",
            "Requirement already satisfied: requests in /usr/local/lib/python3.7/dist-packages (from transformers) (2.23.0)\n",
            "Requirement already satisfied: tqdm>=4.27 in /usr/local/lib/python3.7/dist-packages (from transformers) (4.64.0)\n",
            "Requirement already satisfied: pyyaml>=5.1 in /usr/local/lib/python3.7/dist-packages (from transformers) (6.0)\n",
            "Requirement already satisfied: filelock in /usr/local/lib/python3.7/dist-packages (from transformers) (3.6.0)\n",
            "Requirement already satisfied: tokenizers!=0.11.3,<0.13,>=0.11.1 in /usr/local/lib/python3.7/dist-packages (from transformers) (0.12.1)\n",
            "Requirement already satisfied: numpy>=1.17 in /usr/local/lib/python3.7/dist-packages (from transformers) (1.21.6)\n",
            "Requirement already satisfied: typing-extensions>=3.7.4.3 in /usr/local/lib/python3.7/dist-packages (from huggingface-hub<1.0,>=0.1.0->transformers) (4.2.0)\n",
            "Requirement already satisfied: pyparsing!=3.0.5,>=2.0.2 in /usr/local/lib/python3.7/dist-packages (from packaging>=20.0->transformers) (3.0.8)\n",
            "Requirement already satisfied: zipp>=0.5 in /usr/local/lib/python3.7/dist-packages (from importlib-metadata->transformers) (3.8.0)\n",
            "Requirement already satisfied: certifi>=2017.4.17 in /usr/local/lib/python3.7/dist-packages (from requests->transformers) (2021.10.8)\n",
            "Requirement already satisfied: idna<3,>=2.5 in /usr/local/lib/python3.7/dist-packages (from requests->transformers) (2.10)\n",
            "Requirement already satisfied: urllib3!=1.25.0,!=1.25.1,<1.26,>=1.21.1 in /usr/local/lib/python3.7/dist-packages (from requests->transformers) (1.24.3)\n",
            "Requirement already satisfied: chardet<4,>=3.0.2 in /usr/local/lib/python3.7/dist-packages (from requests->transformers) (3.0.4)\n",
            "Requirement already satisfied: joblib in /usr/local/lib/python3.7/dist-packages (from sacremoses->transformers) (1.1.0)\n",
            "Requirement already satisfied: six in /usr/local/lib/python3.7/dist-packages (from sacremoses->transformers) (1.15.0)\n",
            "Requirement already satisfied: click in /usr/local/lib/python3.7/dist-packages (from sacremoses->transformers) (7.1.2)\n"
          ]
        }
      ]
    },
    {
      "cell_type": "code",
      "source": [
        "!pip install sentencepiece"
      ],
      "metadata": {
        "colab": {
          "base_uri": "https://localhost:8080/"
        },
        "id": "VZEe_Xk_xRZ6",
        "outputId": "02344c04-8bee-4d3c-f2ea-b829f2a7ac61"
      },
      "execution_count": null,
      "outputs": [
        {
          "output_type": "stream",
          "name": "stdout",
          "text": [
            "Collecting sentencepiece\n",
            "  Downloading sentencepiece-0.1.96-cp37-cp37m-manylinux_2_17_x86_64.manylinux2014_x86_64.whl (1.2 MB)\n",
            "\u001b[?25l\r\u001b[K     |▎                               | 10 kB 29.3 MB/s eta 0:00:01\r\u001b[K     |▌                               | 20 kB 16.7 MB/s eta 0:00:01\r\u001b[K     |▉                               | 30 kB 9.5 MB/s eta 0:00:01\r\u001b[K     |█                               | 40 kB 4.2 MB/s eta 0:00:01\r\u001b[K     |█▍                              | 51 kB 4.4 MB/s eta 0:00:01\r\u001b[K     |█▋                              | 61 kB 5.2 MB/s eta 0:00:01\r\u001b[K     |██                              | 71 kB 5.2 MB/s eta 0:00:01\r\u001b[K     |██▏                             | 81 kB 5.3 MB/s eta 0:00:01\r\u001b[K     |██▍                             | 92 kB 5.9 MB/s eta 0:00:01\r\u001b[K     |██▊                             | 102 kB 5.0 MB/s eta 0:00:01\r\u001b[K     |███                             | 112 kB 5.0 MB/s eta 0:00:01\r\u001b[K     |███▎                            | 122 kB 5.0 MB/s eta 0:00:01\r\u001b[K     |███▌                            | 133 kB 5.0 MB/s eta 0:00:01\r\u001b[K     |███▉                            | 143 kB 5.0 MB/s eta 0:00:01\r\u001b[K     |████                            | 153 kB 5.0 MB/s eta 0:00:01\r\u001b[K     |████▎                           | 163 kB 5.0 MB/s eta 0:00:01\r\u001b[K     |████▋                           | 174 kB 5.0 MB/s eta 0:00:01\r\u001b[K     |████▉                           | 184 kB 5.0 MB/s eta 0:00:01\r\u001b[K     |█████▏                          | 194 kB 5.0 MB/s eta 0:00:01\r\u001b[K     |█████▍                          | 204 kB 5.0 MB/s eta 0:00:01\r\u001b[K     |█████▊                          | 215 kB 5.0 MB/s eta 0:00:01\r\u001b[K     |██████                          | 225 kB 5.0 MB/s eta 0:00:01\r\u001b[K     |██████▏                         | 235 kB 5.0 MB/s eta 0:00:01\r\u001b[K     |██████▌                         | 245 kB 5.0 MB/s eta 0:00:01\r\u001b[K     |██████▊                         | 256 kB 5.0 MB/s eta 0:00:01\r\u001b[K     |███████                         | 266 kB 5.0 MB/s eta 0:00:01\r\u001b[K     |███████▎                        | 276 kB 5.0 MB/s eta 0:00:01\r\u001b[K     |███████▋                        | 286 kB 5.0 MB/s eta 0:00:01\r\u001b[K     |███████▉                        | 296 kB 5.0 MB/s eta 0:00:01\r\u001b[K     |████████                        | 307 kB 5.0 MB/s eta 0:00:01\r\u001b[K     |████████▍                       | 317 kB 5.0 MB/s eta 0:00:01\r\u001b[K     |████████▋                       | 327 kB 5.0 MB/s eta 0:00:01\r\u001b[K     |█████████                       | 337 kB 5.0 MB/s eta 0:00:01\r\u001b[K     |█████████▏                      | 348 kB 5.0 MB/s eta 0:00:01\r\u001b[K     |█████████▌                      | 358 kB 5.0 MB/s eta 0:00:01\r\u001b[K     |█████████▊                      | 368 kB 5.0 MB/s eta 0:00:01\r\u001b[K     |██████████                      | 378 kB 5.0 MB/s eta 0:00:01\r\u001b[K     |██████████▎                     | 389 kB 5.0 MB/s eta 0:00:01\r\u001b[K     |██████████▌                     | 399 kB 5.0 MB/s eta 0:00:01\r\u001b[K     |██████████▉                     | 409 kB 5.0 MB/s eta 0:00:01\r\u001b[K     |███████████                     | 419 kB 5.0 MB/s eta 0:00:01\r\u001b[K     |███████████▍                    | 430 kB 5.0 MB/s eta 0:00:01\r\u001b[K     |███████████▋                    | 440 kB 5.0 MB/s eta 0:00:01\r\u001b[K     |███████████▉                    | 450 kB 5.0 MB/s eta 0:00:01\r\u001b[K     |████████████▏                   | 460 kB 5.0 MB/s eta 0:00:01\r\u001b[K     |████████████▍                   | 471 kB 5.0 MB/s eta 0:00:01\r\u001b[K     |████████████▊                   | 481 kB 5.0 MB/s eta 0:00:01\r\u001b[K     |█████████████                   | 491 kB 5.0 MB/s eta 0:00:01\r\u001b[K     |█████████████▎                  | 501 kB 5.0 MB/s eta 0:00:01\r\u001b[K     |█████████████▌                  | 512 kB 5.0 MB/s eta 0:00:01\r\u001b[K     |█████████████▊                  | 522 kB 5.0 MB/s eta 0:00:01\r\u001b[K     |██████████████                  | 532 kB 5.0 MB/s eta 0:00:01\r\u001b[K     |██████████████▎                 | 542 kB 5.0 MB/s eta 0:00:01\r\u001b[K     |██████████████▋                 | 552 kB 5.0 MB/s eta 0:00:01\r\u001b[K     |██████████████▉                 | 563 kB 5.0 MB/s eta 0:00:01\r\u001b[K     |███████████████▏                | 573 kB 5.0 MB/s eta 0:00:01\r\u001b[K     |███████████████▍                | 583 kB 5.0 MB/s eta 0:00:01\r\u001b[K     |███████████████▋                | 593 kB 5.0 MB/s eta 0:00:01\r\u001b[K     |████████████████                | 604 kB 5.0 MB/s eta 0:00:01\r\u001b[K     |████████████████▏               | 614 kB 5.0 MB/s eta 0:00:01\r\u001b[K     |████████████████▌               | 624 kB 5.0 MB/s eta 0:00:01\r\u001b[K     |████████████████▊               | 634 kB 5.0 MB/s eta 0:00:01\r\u001b[K     |█████████████████               | 645 kB 5.0 MB/s eta 0:00:01\r\u001b[K     |█████████████████▎              | 655 kB 5.0 MB/s eta 0:00:01\r\u001b[K     |█████████████████▌              | 665 kB 5.0 MB/s eta 0:00:01\r\u001b[K     |█████████████████▉              | 675 kB 5.0 MB/s eta 0:00:01\r\u001b[K     |██████████████████              | 686 kB 5.0 MB/s eta 0:00:01\r\u001b[K     |██████████████████▍             | 696 kB 5.0 MB/s eta 0:00:01\r\u001b[K     |██████████████████▋             | 706 kB 5.0 MB/s eta 0:00:01\r\u001b[K     |███████████████████             | 716 kB 5.0 MB/s eta 0:00:01\r\u001b[K     |███████████████████▏            | 727 kB 5.0 MB/s eta 0:00:01\r\u001b[K     |███████████████████▍            | 737 kB 5.0 MB/s eta 0:00:01\r\u001b[K     |███████████████████▊            | 747 kB 5.0 MB/s eta 0:00:01\r\u001b[K     |████████████████████            | 757 kB 5.0 MB/s eta 0:00:01\r\u001b[K     |████████████████████▎           | 768 kB 5.0 MB/s eta 0:00:01\r\u001b[K     |████████████████████▌           | 778 kB 5.0 MB/s eta 0:00:01\r\u001b[K     |████████████████████▉           | 788 kB 5.0 MB/s eta 0:00:01\r\u001b[K     |█████████████████████           | 798 kB 5.0 MB/s eta 0:00:01\r\u001b[K     |█████████████████████▎          | 808 kB 5.0 MB/s eta 0:00:01\r\u001b[K     |█████████████████████▋          | 819 kB 5.0 MB/s eta 0:00:01\r\u001b[K     |█████████████████████▉          | 829 kB 5.0 MB/s eta 0:00:01\r\u001b[K     |██████████████████████▏         | 839 kB 5.0 MB/s eta 0:00:01\r\u001b[K     |██████████████████████▍         | 849 kB 5.0 MB/s eta 0:00:01\r\u001b[K     |██████████████████████▊         | 860 kB 5.0 MB/s eta 0:00:01\r\u001b[K     |███████████████████████         | 870 kB 5.0 MB/s eta 0:00:01\r\u001b[K     |███████████████████████▏        | 880 kB 5.0 MB/s eta 0:00:01\r\u001b[K     |███████████████████████▌        | 890 kB 5.0 MB/s eta 0:00:01\r\u001b[K     |███████████████████████▊        | 901 kB 5.0 MB/s eta 0:00:01\r\u001b[K     |████████████████████████        | 911 kB 5.0 MB/s eta 0:00:01\r\u001b[K     |████████████████████████▎       | 921 kB 5.0 MB/s eta 0:00:01\r\u001b[K     |████████████████████████▋       | 931 kB 5.0 MB/s eta 0:00:01\r\u001b[K     |████████████████████████▉       | 942 kB 5.0 MB/s eta 0:00:01\r\u001b[K     |█████████████████████████       | 952 kB 5.0 MB/s eta 0:00:01\r\u001b[K     |█████████████████████████▍      | 962 kB 5.0 MB/s eta 0:00:01\r\u001b[K     |█████████████████████████▋      | 972 kB 5.0 MB/s eta 0:00:01\r\u001b[K     |██████████████████████████      | 983 kB 5.0 MB/s eta 0:00:01\r\u001b[K     |██████████████████████████▏     | 993 kB 5.0 MB/s eta 0:00:01\r\u001b[K     |██████████████████████████▌     | 1.0 MB 5.0 MB/s eta 0:00:01\r\u001b[K     |██████████████████████████▊     | 1.0 MB 5.0 MB/s eta 0:00:01\r\u001b[K     |███████████████████████████     | 1.0 MB 5.0 MB/s eta 0:00:01\r\u001b[K     |███████████████████████████▎    | 1.0 MB 5.0 MB/s eta 0:00:01\r\u001b[K     |███████████████████████████▌    | 1.0 MB 5.0 MB/s eta 0:00:01\r\u001b[K     |███████████████████████████▉    | 1.1 MB 5.0 MB/s eta 0:00:01\r\u001b[K     |████████████████████████████    | 1.1 MB 5.0 MB/s eta 0:00:01\r\u001b[K     |████████████████████████████▍   | 1.1 MB 5.0 MB/s eta 0:00:01\r\u001b[K     |████████████████████████████▋   | 1.1 MB 5.0 MB/s eta 0:00:01\r\u001b[K     |████████████████████████████▉   | 1.1 MB 5.0 MB/s eta 0:00:01\r\u001b[K     |█████████████████████████████▏  | 1.1 MB 5.0 MB/s eta 0:00:01\r\u001b[K     |█████████████████████████████▍  | 1.1 MB 5.0 MB/s eta 0:00:01\r\u001b[K     |█████████████████████████████▊  | 1.1 MB 5.0 MB/s eta 0:00:01\r\u001b[K     |██████████████████████████████  | 1.1 MB 5.0 MB/s eta 0:00:01\r\u001b[K     |██████████████████████████████▎ | 1.1 MB 5.0 MB/s eta 0:00:01\r\u001b[K     |██████████████████████████████▌ | 1.2 MB 5.0 MB/s eta 0:00:01\r\u001b[K     |██████████████████████████████▊ | 1.2 MB 5.0 MB/s eta 0:00:01\r\u001b[K     |███████████████████████████████ | 1.2 MB 5.0 MB/s eta 0:00:01\r\u001b[K     |███████████████████████████████▎| 1.2 MB 5.0 MB/s eta 0:00:01\r\u001b[K     |███████████████████████████████▋| 1.2 MB 5.0 MB/s eta 0:00:01\r\u001b[K     |███████████████████████████████▉| 1.2 MB 5.0 MB/s eta 0:00:01\r\u001b[K     |████████████████████████████████| 1.2 MB 5.0 MB/s \n",
            "\u001b[?25hInstalling collected packages: sentencepiece\n",
            "Successfully installed sentencepiece-0.1.96\n"
          ]
        }
      ]
    },
    {
      "cell_type": "code",
      "source": [
        "%%writefile app.py\n",
        "\n",
        "import streamlit as st\n",
        "\n",
        "from transformers import (\n",
        "    EncoderDecoderModel,\n",
        "    BertTokenizer,\n",
        ")\n",
        "\n",
        "import sentencepiece as spm\n",
        "\n",
        "#from lib.tokenization_kobert import KoBertTokenizer\n",
        "\n",
        "if 'tokenizer' not in st.session_state:\n",
        "    #src_tokenizer = KoBertTokenizer.from_pretrained('monologg/kobert')\n",
        "    #trg_tokenizer = GPT2Tokenizer.from_pretrained('distilgpt2')\n",
        "    tokenizer = BertTokenizer('./dump/wpm-vocab-all-30522.txt', do_lower_case=False)\n",
        "    st.session_state.tokenizer = tokenizer\n",
        "else:\n",
        "    tokenizer = st.session_state.tokenizer\n",
        "\n",
        "@st.cache\n",
        "def get_model(bos_token_id = None):\n",
        "    model = EncoderDecoderModel.from_pretrained('./dump/models/best_model_ko_je(ai_hub)')\n",
        "    #model.config.decoder_start_token_id = bos_token_id\n",
        "    model.eval()\n",
        "    model.cuda()\n",
        "\n",
        "    return model\n",
        "\n",
        "model = get_model(tokenizer.bos_token_id)\n",
        "\n",
        "st.title(\"한국어-제주어 번역기\")\n",
        "st.subheader(\"한-제 번역기에 오신 것을 환영합니다!\")\n",
        "\n",
        "kor = st.text_area(\"입력\", placeholder=\"번역할 한국어\")\n",
        "\n",
        "if st.button(\"번역!\", help=\"해당 한국어 입력을 번역합니다.\"):\n",
        "    embeddings = tokenizer(kor, return_attention_mask=False, return_token_type_ids=False, return_tensors='pt')\n",
        "    embeddings = {k: v.cuda() for k, v in embeddings.items()}\n",
        "    output = model.generate(**embeddings)[0, 1:-1].cpu()\n",
        "    st.text_area(\"출력\", value=tokenizer.decode(output), disabled=True)"
      ],
      "metadata": {
        "colab": {
          "base_uri": "https://localhost:8080/"
        },
        "id": "D4JO7Yg4m-h_",
        "outputId": "cc8afdff-0feb-4188-a8ba-eac7a8cc59b5"
      },
      "execution_count": null,
      "outputs": [
        {
          "output_type": "stream",
          "name": "stdout",
          "text": [
            "Overwriting app.py\n"
          ]
        }
      ]
    },
    {
      "cell_type": "code",
      "source": [
        "!ls"
      ],
      "metadata": {
        "colab": {
          "base_uri": "https://localhost:8080/"
        },
        "id": "Xk5Sc3torcDl",
        "outputId": "c41d4773-f13a-4f75-80ab-25510344dd74"
      },
      "execution_count": null,
      "outputs": [
        {
          "output_type": "stream",
          "name": "stdout",
          "text": [
            "app.py\tbaseline  code\tdump  dump2  JIT\n"
          ]
        }
      ]
    },
    {
      "cell_type": "code",
      "source": [
        "!ngrok authtoken # private token "
      ],
      "metadata": {
        "colab": {
          "base_uri": "https://localhost:8080/"
        },
        "id": "IISfxgOmrlMu",
        "outputId": "63412e4e-f6dd-44c8-b3e0-6b1fd53c893e"
      },
      "execution_count": null,
      "outputs": [
        {
          "output_type": "stream",
          "name": "stdout",
          "text": [
            "Authtoken saved to configuration file: /root/.ngrok2/ngrok.yml\n"
          ]
        }
      ]
    },
    {
      "cell_type": "code",
      "source": [
        "!ngrok"
      ],
      "metadata": {
        "colab": {
          "base_uri": "https://localhost:8080/"
        },
        "id": "H9KKjRqJr6Bj",
        "outputId": "0441e0f8-5cc8-43af-9beb-26e891d4527b"
      },
      "execution_count": null,
      "outputs": [
        {
          "output_type": "stream",
          "name": "stdout",
          "text": [
            "NAME:\n",
            "   ngrok - tunnel local ports to public URLs and inspect traffic\n",
            "\n",
            "DESCRIPTION:\n",
            "    ngrok exposes local networked services behinds NATs and firewalls to the\n",
            "    public internet over a secure tunnel. Share local websites, build/test\n",
            "    webhook consumers and self-host personal services.\n",
            "    Detailed help for each command is available with 'ngrok help <command>'.\n",
            "    Open http://localhost:4040 for ngrok's web interface to inspect traffic.\n",
            "\n",
            "EXAMPLES:\n",
            "    ngrok http 80                    # secure public URL for port 80 web server\n",
            "    ngrok http -subdomain=baz 8080   # port 8080 available at baz.ngrok.io\n",
            "    ngrok http foo.dev:80            # tunnel to host:port instead of localhost\n",
            "    ngrok http https://localhost     # expose a local https server\n",
            "    ngrok tcp 22                     # tunnel arbitrary TCP traffic to port 22\n",
            "    ngrok tls -hostname=foo.com 443  # TLS traffic for foo.com to port 443\n",
            "    ngrok start foo bar baz          # start tunnels from the configuration file\n",
            "\n",
            "VERSION:\n",
            "   2.3.40\n",
            "\n",
            "AUTHOR:\n",
            "  inconshreveable - <alan@ngrok.com>\n",
            "\n",
            "COMMANDS:\n",
            "   authtoken\tsave authtoken to configuration file\n",
            "   credits\tprints author and licensing information\n",
            "   http\t\tstart an HTTP tunnel\n",
            "   start\tstart tunnels by name from the configuration file\n",
            "   tcp\t\tstart a TCP tunnel\n",
            "   tls\t\tstart a TLS tunnel\n",
            "   update\tupdate ngrok to the latest version\n",
            "   version\tprint the version string\n",
            "   help\t\tShows a list of commands or help for one command\n",
            "\n",
            "PYNGROK VERSION:\n",
            "   5.1.0\n"
          ]
        }
      ]
    },
    {
      "cell_type": "code",
      "source": [
        "from pyngrok import ngrok"
      ],
      "metadata": {
        "id": "Xc1-vbXhr5xX"
      },
      "execution_count": null,
      "outputs": []
    },
    {
      "cell_type": "code",
      "source": [
        "!streamlit run app.py&>/dev/null&"
      ],
      "metadata": {
        "id": "edcRJ4AEsUVI"
      },
      "execution_count": null,
      "outputs": []
    },
    {
      "cell_type": "code",
      "source": [
        "!pgrep streamlit"
      ],
      "metadata": {
        "colab": {
          "base_uri": "https://localhost:8080/"
        },
        "id": "MiYJ7rYTszoW",
        "outputId": "ef0338c8-a6a4-43dd-9e33-a34480409d59"
      },
      "execution_count": null,
      "outputs": [
        {
          "output_type": "stream",
          "name": "stdout",
          "text": [
            "1434\n"
          ]
        }
      ]
    },
    {
      "cell_type": "code",
      "source": [
        "publ_url = ngrok.connect(addr = '8501')"
      ],
      "metadata": {
        "id": "pMkLd5pDsBts",
        "colab": {
          "base_uri": "https://localhost:8080/",
          "height": 374
        },
        "outputId": "4dab1651-6b30-446a-e406-9eafcc2aed8d"
      },
      "execution_count": null,
      "outputs": [
        {
          "output_type": "stream",
          "name": "stderr",
          "text": [
            "t=2022-05-01T09:43:00+0000 lvl=eror msg=\"failed to auth\" obj=tunnels.session err=\"Your account is limited to 1 simultaneous ngrok agent session.\\nActive ngrok agent sessions in region 'us':\\n  - ts_28YacwnMaeIzsaQOoaxwBydKp9J (34.125.44.104)\\r\\n\\r\\nERR_NGROK_108\\r\\n\"\n"
          ]
        },
        {
          "output_type": "error",
          "ename": "PyngrokNgrokError",
          "evalue": "ignored",
          "traceback": [
            "\u001b[0;31m---------------------------------------------------------------------------\u001b[0m",
            "\u001b[0;31mPyngrokNgrokError\u001b[0m                         Traceback (most recent call last)",
            "\u001b[0;32m/tmp/ipykernel_1057/164071916.py\u001b[0m in \u001b[0;36m<module>\u001b[0;34m\u001b[0m\n\u001b[0;32m----> 1\u001b[0;31m \u001b[0mpubl_url\u001b[0m \u001b[0;34m=\u001b[0m \u001b[0mngrok\u001b[0m\u001b[0;34m.\u001b[0m\u001b[0mconnect\u001b[0m\u001b[0;34m(\u001b[0m\u001b[0maddr\u001b[0m \u001b[0;34m=\u001b[0m \u001b[0;34m'8501'\u001b[0m\u001b[0;34m)\u001b[0m\u001b[0;34m\u001b[0m\u001b[0;34m\u001b[0m\u001b[0m\n\u001b[0m",
            "\u001b[0;32m/usr/local/lib/python3.7/dist-packages/pyngrok/ngrok.py\u001b[0m in \u001b[0;36mconnect\u001b[0;34m(addr, proto, name, pyngrok_config, **options)\u001b[0m\n\u001b[1;32m    249\u001b[0m     \u001b[0moptions\u001b[0m\u001b[0;34m.\u001b[0m\u001b[0mupdate\u001b[0m\u001b[0;34m(\u001b[0m\u001b[0mconfig\u001b[0m\u001b[0;34m)\u001b[0m\u001b[0;34m\u001b[0m\u001b[0;34m\u001b[0m\u001b[0m\n\u001b[1;32m    250\u001b[0m \u001b[0;34m\u001b[0m\u001b[0m\n\u001b[0;32m--> 251\u001b[0;31m     \u001b[0mapi_url\u001b[0m \u001b[0;34m=\u001b[0m \u001b[0mget_ngrok_process\u001b[0m\u001b[0;34m(\u001b[0m\u001b[0mpyngrok_config\u001b[0m\u001b[0;34m)\u001b[0m\u001b[0;34m.\u001b[0m\u001b[0mapi_url\u001b[0m\u001b[0;34m\u001b[0m\u001b[0;34m\u001b[0m\u001b[0m\n\u001b[0m\u001b[1;32m    252\u001b[0m \u001b[0;34m\u001b[0m\u001b[0m\n\u001b[1;32m    253\u001b[0m     \u001b[0mlogger\u001b[0m\u001b[0;34m.\u001b[0m\u001b[0mdebug\u001b[0m\u001b[0;34m(\u001b[0m\u001b[0;34m\"Creating tunnel with options: {}\"\u001b[0m\u001b[0;34m.\u001b[0m\u001b[0mformat\u001b[0m\u001b[0;34m(\u001b[0m\u001b[0moptions\u001b[0m\u001b[0;34m)\u001b[0m\u001b[0;34m)\u001b[0m\u001b[0;34m\u001b[0m\u001b[0;34m\u001b[0m\u001b[0m\n",
            "\u001b[0;32m/usr/local/lib/python3.7/dist-packages/pyngrok/ngrok.py\u001b[0m in \u001b[0;36mget_ngrok_process\u001b[0;34m(pyngrok_config)\u001b[0m\n\u001b[1;32m    160\u001b[0m     \u001b[0minstall_ngrok\u001b[0m\u001b[0;34m(\u001b[0m\u001b[0mpyngrok_config\u001b[0m\u001b[0;34m)\u001b[0m\u001b[0;34m\u001b[0m\u001b[0;34m\u001b[0m\u001b[0m\n\u001b[1;32m    161\u001b[0m \u001b[0;34m\u001b[0m\u001b[0m\n\u001b[0;32m--> 162\u001b[0;31m     \u001b[0;32mreturn\u001b[0m \u001b[0mprocess\u001b[0m\u001b[0;34m.\u001b[0m\u001b[0mget_process\u001b[0m\u001b[0;34m(\u001b[0m\u001b[0mpyngrok_config\u001b[0m\u001b[0;34m)\u001b[0m\u001b[0;34m\u001b[0m\u001b[0;34m\u001b[0m\u001b[0m\n\u001b[0m\u001b[1;32m    163\u001b[0m \u001b[0;34m\u001b[0m\u001b[0m\n\u001b[1;32m    164\u001b[0m \u001b[0;34m\u001b[0m\u001b[0m\n",
            "\u001b[0;32m/usr/local/lib/python3.7/dist-packages/pyngrok/process.py\u001b[0m in \u001b[0;36mget_process\u001b[0;34m(pyngrok_config)\u001b[0m\n\u001b[1;32m    293\u001b[0m         \u001b[0;32mreturn\u001b[0m \u001b[0m_current_processes\u001b[0m\u001b[0;34m[\u001b[0m\u001b[0mpyngrok_config\u001b[0m\u001b[0;34m.\u001b[0m\u001b[0mngrok_path\u001b[0m\u001b[0;34m]\u001b[0m\u001b[0;34m\u001b[0m\u001b[0;34m\u001b[0m\u001b[0m\n\u001b[1;32m    294\u001b[0m \u001b[0;34m\u001b[0m\u001b[0m\n\u001b[0;32m--> 295\u001b[0;31m     \u001b[0;32mreturn\u001b[0m \u001b[0m_start_process\u001b[0m\u001b[0;34m(\u001b[0m\u001b[0mpyngrok_config\u001b[0m\u001b[0;34m)\u001b[0m\u001b[0;34m\u001b[0m\u001b[0;34m\u001b[0m\u001b[0m\n\u001b[0m\u001b[1;32m    296\u001b[0m \u001b[0;34m\u001b[0m\u001b[0m\n\u001b[1;32m    297\u001b[0m \u001b[0;34m\u001b[0m\u001b[0m\n",
            "\u001b[0;32m/usr/local/lib/python3.7/dist-packages/pyngrok/process.py\u001b[0m in \u001b[0;36m_start_process\u001b[0;34m(pyngrok_config)\u001b[0m\n\u001b[1;32m    464\u001b[0m             raise PyngrokNgrokError(\"The ngrok process errored on start: {}.\".format(ngrok_process.startup_error),\n\u001b[1;32m    465\u001b[0m                                     \u001b[0mngrok_process\u001b[0m\u001b[0;34m.\u001b[0m\u001b[0mlogs\u001b[0m\u001b[0;34m,\u001b[0m\u001b[0;34m\u001b[0m\u001b[0;34m\u001b[0m\u001b[0m\n\u001b[0;32m--> 466\u001b[0;31m                                     ngrok_process.startup_error)\n\u001b[0m\u001b[1;32m    467\u001b[0m         \u001b[0;32melse\u001b[0m\u001b[0;34m:\u001b[0m\u001b[0;34m\u001b[0m\u001b[0;34m\u001b[0m\u001b[0m\n\u001b[1;32m    468\u001b[0m             \u001b[0;32mraise\u001b[0m \u001b[0mPyngrokNgrokError\u001b[0m\u001b[0;34m(\u001b[0m\u001b[0;34m\"The ngrok process was unable to start.\"\u001b[0m\u001b[0;34m,\u001b[0m \u001b[0mngrok_process\u001b[0m\u001b[0;34m.\u001b[0m\u001b[0mlogs\u001b[0m\u001b[0;34m)\u001b[0m\u001b[0;34m\u001b[0m\u001b[0;34m\u001b[0m\u001b[0m\n",
            "\u001b[0;31mPyngrokNgrokError\u001b[0m: The ngrok process errored on start: Your account is limited to 1 simultaneous ngrok agent session.\\nActive ngrok agent sessions in region 'us':\\n  - ts_28YacwnMaeIzsaQOoaxwBydKp9J (34.125.44.104)\\r\\n\\r\\nERR_NGROK_108\\r\\n."
          ]
        }
      ]
    },
    {
      "cell_type": "code",
      "source": [
        "publ_url"
      ],
      "metadata": {
        "colab": {
          "base_uri": "https://localhost:8080/",
          "height": 169
        },
        "id": "cjqc1Wnws429",
        "outputId": "11e46f4b-3f23-477c-ba28-c8bc4067b284"
      },
      "execution_count": null,
      "outputs": [
        {
          "output_type": "error",
          "ename": "NameError",
          "evalue": "ignored",
          "traceback": [
            "\u001b[0;31m---------------------------------------------------------------------------\u001b[0m",
            "\u001b[0;31mNameError\u001b[0m                                 Traceback (most recent call last)",
            "\u001b[0;32m<ipython-input-23-110ec87a0502>\u001b[0m in \u001b[0;36m<module>\u001b[0;34m()\u001b[0m\n\u001b[0;32m----> 1\u001b[0;31m \u001b[0mpubl_url\u001b[0m\u001b[0;34m\u001b[0m\u001b[0;34m\u001b[0m\u001b[0m\n\u001b[0m",
            "\u001b[0;31mNameError\u001b[0m: name 'publ_url' is not defined"
          ]
        }
      ]
    },
    {
      "cell_type": "code",
      "source": [
        "!ps"
      ],
      "metadata": {
        "colab": {
          "base_uri": "https://localhost:8080/"
        },
        "id": "DFYB_3_Lhkgg",
        "outputId": "5c6c975d-1657-45d4-8832-2577e6c82d79"
      },
      "execution_count": null,
      "outputs": [
        {
          "output_type": "stream",
          "name": "stdout",
          "text": [
            "    PID TTY          TIME CMD\n",
            "      1 ?        00:00:00 docker-init\n",
            "      7 ?        00:00:04 node\n",
            "     17 ?        00:00:00 tail\n",
            "     37 ?        00:00:04 python3 <defunct>\n",
            "     38 ?        00:00:00 colab-fileshim.\n",
            "     63 ?        00:00:03 jupyter-noteboo\n",
            "     64 ?        00:00:02 dap_multiplexer\n",
            "    259 ?        00:00:00 bash\n",
            "    260 ?        00:00:00 drive\n",
            "    261 ?        00:00:00 grep\n",
            "    308 ?        00:00:02 drive\n",
            "    381 ?        00:00:00 bash\n",
            "    382 ?        00:00:00 directoryprefet\n",
            "    383 ?        00:00:00 tail\n",
            "    384 ?        00:00:00 python3\n",
            "   1057 ?        00:00:05 python3\n",
            "   1088 ?        00:00:01 python3\n",
            "   1193 ?        00:00:08 node\n",
            "   1406 ?        00:00:00 ps\n"
          ]
        }
      ]
    },
    {
      "cell_type": "code",
      "source": [
        "!kill "
      ],
      "metadata": {
        "id": "Mr0zrK1Jhqsc"
      },
      "execution_count": null,
      "outputs": []
    },
    {
      "cell_type": "code",
      "source": [
        "!killall streamlit"
      ],
      "metadata": {
        "id": "3SWvdoV385Ea"
      },
      "execution_count": null,
      "outputs": []
    },
    {
      "cell_type": "code",
      "source": [
        "!killall ngrok"
      ],
      "metadata": {
        "colab": {
          "base_uri": "https://localhost:8080/"
        },
        "id": "eHzZnxPC8o_D",
        "outputId": "02d5d745-a371-4293-c1d7-fc40275841cb"
      },
      "execution_count": null,
      "outputs": [
        {
          "output_type": "stream",
          "name": "stdout",
          "text": [
            "ngrok: no process found\n"
          ]
        }
      ]
    },
    {
      "cell_type": "code",
      "source": [
        "ngrok.kill()"
      ],
      "metadata": {
        "id": "roox6c0viNXW"
      },
      "execution_count": null,
      "outputs": []
    },
    {
      "cell_type": "code",
      "source": [
        ""
      ],
      "metadata": {
        "id": "rV5Gvr_wiRPS"
      },
      "execution_count": null,
      "outputs": []
    }
  ]
}